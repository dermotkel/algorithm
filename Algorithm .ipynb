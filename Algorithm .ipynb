{
 "cells": [
  {
   "cell_type": "markdown",
   "metadata": {},
   "source": [
    "# <u>Project: Benchmarking Sorting Algorithms</u>"
   ]
  },
  {
   "cell_type": "markdown",
   "metadata": {},
   "source": [
    "## 1. Introduction\n"
   ]
  },
  {
   "cell_type": "code",
   "execution_count": null,
   "metadata": {},
   "outputs": [],
   "source": []
  },
  {
   "cell_type": "markdown",
   "metadata": {},
   "source": [
    "## 2. Sorting Algorithms  "
   ]
  },
  {
   "cell_type": "code",
   "execution_count": null,
   "metadata": {},
   "outputs": [],
   "source": []
  },
  {
   "cell_type": "markdown",
   "metadata": {},
   "source": [
    "### *2.1 Selection Sort*"
   ]
  },
  {
   "cell_type": "code",
   "execution_count": 105,
   "metadata": {},
   "outputs": [],
   "source": [
    "from random import randint\n",
    "import time\n",
    "import numpy as np"
   ]
  },
  {
   "cell_type": "code",
   "execution_count": 106,
   "metadata": {},
   "outputs": [],
   "source": [
    "def selectionSort(alist):\n",
    "\n",
    "   for i in range(len(alist)):\n",
    "       minPosition = i\n",
    "       for j in range(i+1, len(alist)):\n",
    "           if alist[minPosition] > alist[j]:\n",
    "               minPosition = j  \n",
    "       temp = alist[i]\n",
    "       alist[i] = alist[minPosition]\n",
    "       alist[minPosition] = temp\n",
    "   return alist\n"
   ]
  },
  {
   "cell_type": "code",
   "execution_count": 107,
   "metadata": {},
   "outputs": [],
   "source": [
    "def random_array(n):\n",
    "    array = []\n",
    "    for i in range(1,n,1):\n",
    "        array.append(randint(0,100))\n",
    "    return array"
   ]
  },
  {
   "cell_type": "code",
   "execution_count": 108,
   "metadata": {},
   "outputs": [],
   "source": [
    "def array_size(fnc, array):\n",
    "    outres = []\n",
    "    for i in array:\n",
    "        num_runs = 10\n",
    "        inres = []\n",
    "        for r in range(num_runs):\n",
    "            start_time = time.time()\n",
    "    \n",
    "            fnc(random_array(i))\n",
    "    \n",
    "            end_time = time.time()\n",
    "    \n",
    "            time_elapsed = end_time - start_time\n",
    "    \n",
    "            inres.append(time_elapsed)\n",
    "\n",
    "        average = np.average(inres)\n",
    "        outres.append(average)\n",
    "    return outres\n",
    "\n"
   ]
  },
  {
   "cell_type": "code",
   "execution_count": 109,
   "metadata": {},
   "outputs": [
    {
     "name": "stdout",
     "output_type": "stream",
     "text": [
      "[0.0009972810745239257, 0.003191542625427246, 0.01875455379486084, 0.0725466251373291]\n"
     ]
    }
   ],
   "source": [
    "x = [100, 200, 500, 1000]\n",
    "\n",
    "print(array_size(selectionSort, x))"
   ]
  },
  {
   "cell_type": "code",
   "execution_count": 53,
   "metadata": {},
   "outputs": [],
   "source": [
    "def avg_run_time(array):\n",
    "    results = []\n",
    "    for i in array:\n",
    "        results.append(array_size(i))\n",
    "    return results\n",
    "        "
   ]
  },
  {
   "cell_type": "code",
   "execution_count": 54,
   "metadata": {},
   "outputs": [
    {
     "name": "stdout",
     "output_type": "stream",
     "text": [
      "[0.0, 0.0005947113037109375, 0.027825546264648438, 2.656295561790466]\n"
     ]
    }
   ],
   "source": [
    "list = [10, 100, 1000, 10000]\n",
    "\n",
    "print(avg_run_time(list))"
   ]
  },
  {
   "cell_type": "code",
   "execution_count": null,
   "metadata": {},
   "outputs": [],
   "source": []
  }
 ],
 "metadata": {
  "kernelspec": {
   "display_name": "Python 3",
   "language": "python",
   "name": "python3"
  },
  "language_info": {
   "codemirror_mode": {
    "name": "ipython",
    "version": 3
   },
   "file_extension": ".py",
   "mimetype": "text/x-python",
   "name": "python",
   "nbconvert_exporter": "python",
   "pygments_lexer": "ipython3",
   "version": "3.7.1"
  }
 },
 "nbformat": 4,
 "nbformat_minor": 2
}
