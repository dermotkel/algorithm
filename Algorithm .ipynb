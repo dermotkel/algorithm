{
 "cells": [
  {
   "cell_type": "markdown",
   "metadata": {},
   "source": [
    "# <u>Project: Benchmarking Sorting Algorithms</u>"
   ]
  },
  {
   "cell_type": "markdown",
   "metadata": {},
   "source": [
    "## 1. Introduction\n"
   ]
  },
  {
   "cell_type": "markdown",
   "metadata": {},
   "source": [
    "Sorting algorithms put items in an array into ascending or descending order. Much early research on computing algorithms was focused on sorting. Due to computers' limited ability to store data in memory, algorithms had to be developed to sort through data efficiently (Heineman et al., 2010, P.57). Sorting algorithms are significant for the following key reasons:\n",
    "\n",
    "* Sorting algorithms are important subroutines in many other important algorithms. For example, the binary search algorithm (method to search for an item in the array) requires the array to be sorted (Bhargava, 2016, P.21). \n",
    "\n",
    "* Sorting is an important function of many real-world applications (Cormen et al., 2009, p. 148). Websites, such as Amazon and Ebay need to be able to sort items by price, time on sale etc. \n",
    "\n",
    "* Finally, sorting has been such a focus of algorithm development that a variety of techniques have been used in their development. They are, therefore, a good introduction to algorithm design (Cormen et al., 2009, p. 148).\n",
    "\n",
    "In this project, i will write an application to benchmark five different sorting algorithms:\n",
    "\n",
    "1. Selection Sort\n",
    "\n",
    "2. Quick Sort\n",
    "\n",
    "3. Bucket Sort\n",
    "\n",
    "4. Pancake Sort\n",
    "\n",
    "5. Bogo Sort.\n",
    "\n",
    "Before, i get to the algorithms, i will first have to introduce **big O notation** as a means to measure **complexity performance** of an algorithm. The difference between **comparison** and **non-comparison** sorting algorithms will be examined. Finally, i will touch on the importance of the **stability** of an algorithm and **in-place** sorting."
   ]
  },
  {
   "cell_type": "markdown",
   "metadata": {},
   "source": [
    "### 1.1 Big O notation and complexity performance"
   ]
  },
  {
   "cell_type": "markdown",
   "metadata": {},
   "source": [
    "Measuring and comparing the time it takes a sorting algorithm to complete its task (as we are doing in this project) is one way to perform benchmarking. However, measuring the **performance** is not ideal as it is not **platform independent** (Mannion, P, 2019a). It can be influenced by the following:\n",
    "\n",
    "* The computational power of the computer \n",
    "\n",
    "* The language the algorithm is written in (algorithm in a high level language like python would be slower than Java)\n",
    "\n",
    "* The number of other processes in the computer running at the same as the algorithm. \n",
    "\n",
    "Instead, we compare algorithms using their **complexity**. We count the number of steps (operations) an algorithm takes to complete a task. Specifically, we observe how quickly the number of operations increases as the input size increases (Mannion, P, 2019a). \n",
    "\n",
    "Algorithmic complexity is measured in a best, average and worst case. The best case is achieved when an algorithm has its optimal input, The average case occurs on random inputs and, finally, the worst case is achieved when an algorithm gets its worst possible input (Mannion, P, 2019a). \n",
    "\n",
    "When comparing algorithms, we use **big O notation** in the form O(). Algorithms are usually compared on their worst case complexity.   \n",
    "\n",
    "\n",
    "The following performance families are typically used to measure algorithms (Bhargava, 2016, P.20-33).\n",
    "\n",
    "* **O(1)** *Constant time* The input size size does not affect the running time\n",
    "\n",
    "* **O(log n)** *logarithmic time* The algorithm runs in sub-linear time (eg. a guessing game using <, = and >)\n",
    "\n",
    "* **O(n)** *linear time* An algorithm's growth is directly proportional to the input size. Bucket sort is O(n) in the average case if the input has a uniform distribution (Cormen et al., 2009, p. 200) \n",
    "\n",
    "* **O(n log n)** *worse than linear* No **comparison based** sorting algorithm do not perform faster than this in the average case (Heineman et al., 2010, P.83).\n",
    "\n",
    "* **O(n2)** *quadratic time* The times increases exponentially - a slow sorting algorithm like **selection sort**.\n",
    "\n"
   ]
  },
  {
   "cell_type": "markdown",
   "metadata": {},
   "source": [
    "**Comparison sorts** order the array only by comparing elements in the array to each other. **Selection sort** and **Quick Sort** are comparison sorts. **Non-comparison sorts** can use other functions. We will be looking at **bucket sort**, **pancake sort** and **bogo sort**"
   ]
  },
  {
   "cell_type": "markdown",
   "metadata": {},
   "source": [
    "time complexity \n",
    "\n",
    "inplace sorting \n",
    "\n",
    "stability"
   ]
  },
  {
   "cell_type": "markdown",
   "metadata": {},
   "source": [
    "## 2. Sorting Algorithms  "
   ]
  },
  {
   "cell_type": "code",
   "execution_count": null,
   "metadata": {},
   "outputs": [],
   "source": []
  },
  {
   "cell_type": "markdown",
   "metadata": {},
   "source": [
    "### *2.1 Selection Sort*"
   ]
  },
  {
   "cell_type": "code",
   "execution_count": 1,
   "metadata": {},
   "outputs": [],
   "source": [
    "from random import randint\n",
    "import time\n",
    "import numpy as np"
   ]
  },
  {
   "cell_type": "code",
   "execution_count": 12,
   "metadata": {},
   "outputs": [],
   "source": [
    "def selectionSort(alist):\n",
    "\n",
    "   for i in range(len(alist)):\n",
    "       minPosition = i\n",
    "       for j in range(i+1, len(alist)):\n",
    "           if alist[minPosition] > alist[j]:\n",
    "               minPosition = j  \n",
    "       temp = alist[i]\n",
    "       alist[i] = alist[minPosition]\n",
    "       alist[minPosition] = temp\n",
    "   return alist\n"
   ]
  },
  {
   "cell_type": "code",
   "execution_count": 2,
   "metadata": {},
   "outputs": [],
   "source": [
    "def random_array(n):\n",
    "    array = []\n",
    "    for i in range(0,n,1):\n",
    "        array.append(randint(0,100))\n",
    "    return array"
   ]
  },
  {
   "cell_type": "code",
   "execution_count": 3,
   "metadata": {},
   "outputs": [],
   "source": [
    "def array_size(fnc, array):\n",
    "    outres = []\n",
    "    for i in array:\n",
    "        num_runs = 10\n",
    "        inres = []\n",
    "        for r in range(num_runs):\n",
    "            start_time = time.time()\n",
    "    \n",
    "            fnc(random_array(i))\n",
    "    \n",
    "            end_time = time.time()\n",
    "    \n",
    "            time_elapsed = end_time - start_time\n",
    "    \n",
    "            inres.append(time_elapsed)\n",
    "\n",
    "        average = np.average(inres)\n",
    "        outres.append(average)\n",
    "    return outres\n",
    "\n"
   ]
  },
  {
   "cell_type": "code",
   "execution_count": 21,
   "metadata": {
    "scrolled": true
   },
   "outputs": [
    {
     "name": "stdout",
     "output_type": "stream",
     "text": [
      "[0.0002111196517944336, 0.00138399600982666, 0.07314462661743164, 7.100179696083069]\n"
     ]
    }
   ],
   "source": [
    "x = [10, 100, 1000, 10000]\n",
    "\n",
    "print(array_size(selectionSort, x))"
   ]
  },
  {
   "cell_type": "markdown",
   "metadata": {},
   "source": [
    "### *2.2 Quick Sort*"
   ]
  },
  {
   "cell_type": "code",
   "execution_count": 16,
   "metadata": {},
   "outputs": [],
   "source": [
    "# https://github.com/egonSchiele/grokking_algorithms/blob/master/04_quicksort/python/05_quicksort.py\n",
    "def quickSort(array):\n",
    "  if len(array) < 2:\n",
    "    # base case, arrays with 0 or 1 element are already \"sorted\"\n",
    "    return array\n",
    "  else:\n",
    "    # recursive case\n",
    "    pivot = array[0]\n",
    "    # sub-array of all the elements less than the pivot\n",
    "    less = [i for i in array[1:] if i <= pivot]\n",
    "    # sub-array of all the elements greater than the pivot\n",
    "    greater = [i for i in array[1:] if i > pivot]\n",
    "    return quickSort(less) + [pivot] + quickSort(greater)\n",
    "\n"
   ]
  },
  {
   "cell_type": "code",
   "execution_count": 17,
   "metadata": {},
   "outputs": [
    {
     "name": "stdout",
     "output_type": "stream",
     "text": [
      "[0.0, 0.00039904117584228517, 0.006188488006591797, 0.15239925384521485]\n"
     ]
    }
   ],
   "source": [
    "x = [10, 100, 1000, 10000]\n",
    "\n",
    "print(array_size(quickSort, x))\n"
   ]
  },
  {
   "cell_type": "code",
   "execution_count": null,
   "metadata": {},
   "outputs": [],
   "source": []
  },
  {
   "cell_type": "markdown",
   "metadata": {},
   "source": [
    "### *2.3 Pancake Sort*"
   ]
  },
  {
   "cell_type": "code",
   "execution_count": 19,
   "metadata": {},
   "outputs": [],
   "source": [
    "def pancakeSort(nums):\n",
    "    arr_len = len(nums)\n",
    "    while arr_len > 1:\n",
    "        mi = nums.index(max(nums[0:arr_len]))\n",
    "        nums = nums[mi::-1] + nums[mi+1:len(nums)]\n",
    "        nums = nums[arr_len-1::-1] + nums[arr_len:len(nums)]\n",
    "        arr_len -= 1\n",
    "    return nums"
   ]
  },
  {
   "cell_type": "code",
   "execution_count": 20,
   "metadata": {},
   "outputs": [
    {
     "name": "stdout",
     "output_type": "stream",
     "text": [
      "[9.965896606445312e-05, 0.0007980823516845703, 0.04595935344696045, 4.53989565372467]\n"
     ]
    }
   ],
   "source": [
    "x = [10, 100, 1000, 10000]\n",
    "\n",
    "print(array_size(pancakeSort, x))"
   ]
  },
  {
   "cell_type": "code",
   "execution_count": null,
   "metadata": {},
   "outputs": [],
   "source": []
  },
  {
   "cell_type": "markdown",
   "metadata": {},
   "source": [
    "### *2.4 Bogo Sort*"
   ]
  },
  {
   "cell_type": "code",
   "execution_count": 19,
   "metadata": {},
   "outputs": [],
   "source": [
    "def bogoSort(lst):\n",
    "    np.random.shuffle(lst)  # must shuffle it first or it's a bug if lst was pre-sorted! :)\n",
    "    while lst != sorted(lst):\n",
    "        np.random.shuffle(lst)\n",
    "    return lst"
   ]
  },
  {
   "cell_type": "code",
   "execution_count": null,
   "metadata": {},
   "outputs": [],
   "source": [
    "x = [10, 50]\n",
    "\n",
    "print(array_size(bogoSort, x))"
   ]
  },
  {
   "cell_type": "code",
   "execution_count": null,
   "metadata": {},
   "outputs": [],
   "source": []
  }
 ],
 "metadata": {
  "kernelspec": {
   "display_name": "Python 3",
   "language": "python",
   "name": "python3"
  },
  "language_info": {
   "codemirror_mode": {
    "name": "ipython",
    "version": 3
   },
   "file_extension": ".py",
   "mimetype": "text/x-python",
   "name": "python",
   "nbconvert_exporter": "python",
   "pygments_lexer": "ipython3",
   "version": "3.7.1"
  }
 },
 "nbformat": 4,
 "nbformat_minor": 2
}
