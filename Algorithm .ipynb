{
 "cells": [
  {
   "cell_type": "markdown",
   "metadata": {},
   "source": [
    "# <u>Project: Benchmarking Sorting Algorithms</u>"
   ]
  },
  {
   "cell_type": "markdown",
   "metadata": {},
   "source": [
    "## 1. Introduction\n"
   ]
  },
  {
   "cell_type": "code",
   "execution_count": null,
   "metadata": {},
   "outputs": [],
   "source": []
  },
  {
   "cell_type": "markdown",
   "metadata": {},
   "source": [
    "## 2. Sorting Algorithms  "
   ]
  },
  {
   "cell_type": "code",
   "execution_count": null,
   "metadata": {},
   "outputs": [],
   "source": []
  },
  {
   "cell_type": "markdown",
   "metadata": {},
   "source": [
    "### *2.1 Selection Sort*"
   ]
  },
  {
   "cell_type": "code",
   "execution_count": 14,
   "metadata": {},
   "outputs": [],
   "source": [
    "from random import randint\n",
    "import time\n",
    "import numpy as np"
   ]
  },
  {
   "cell_type": "code",
   "execution_count": 15,
   "metadata": {},
   "outputs": [],
   "source": [
    "def selectionSort(alist):\n",
    "\n",
    "   for i in range(len(alist)):\n",
    "       minPosition = i\n",
    "       for j in range(i+1, len(alist)):\n",
    "           if alist[minPosition] > alist[j]:\n",
    "               minPosition = j  \n",
    "       temp = alist[i]\n",
    "       alist[i] = alist[minPosition]\n",
    "       alist[minPosition] = temp\n",
    "   return alist\n"
   ]
  },
  {
   "cell_type": "code",
   "execution_count": 16,
   "metadata": {},
   "outputs": [],
   "source": [
    "def random_array(n):\n",
    "    array = np.random.randint(100, size=n)\n",
    "    return array"
   ]
  },
  {
   "cell_type": "code",
   "execution_count": 17,
   "metadata": {},
   "outputs": [],
   "source": [
    "def array_size(fnc, array):\n",
    "    outres = []\n",
    "    for i in array:\n",
    "        num_runs = 10\n",
    "        inres = []\n",
    "        for r in range(num_runs):\n",
    "            start_time = time.time()\n",
    "    \n",
    "            fnc(random_array(i))\n",
    "    \n",
    "            end_time = time.time()\n",
    "    \n",
    "            time_elapsed = end_time - start_time\n",
    "    \n",
    "            inres.append(time_elapsed)\n",
    "\n",
    "        average = np.average(inres)\n",
    "        outres.append(average)\n",
    "    return outres\n",
    "\n"
   ]
  },
  {
   "cell_type": "code",
   "execution_count": 18,
   "metadata": {},
   "outputs": [
    {
     "name": "stdout",
     "output_type": "stream",
     "text": [
      "[0.0019797563552856447, 0.009478926658630371, 0.057944440841674806, 0.23008420467376708]\n"
     ]
    }
   ],
   "source": [
    "x = [100, 200, 500, 1000]\n",
    "\n",
    "print(array_size(selectionSort, x))"
   ]
  },
  {
   "cell_type": "markdown",
   "metadata": {},
   "source": [
    "### *2.2 Quick Sort*"
   ]
  },
  {
   "cell_type": "code",
   "execution_count": 23,
   "metadata": {},
   "outputs": [],
   "source": [
    "# https://github.com/egonSchiele/grokking_algorithms/blob/master/04_quicksort/python/05_quicksort.py\n",
    "def quickSort(array):\n",
    "  if len(array) < 2:\n",
    "    # base case, arrays with 0 or 1 element are already \"sorted\"\n",
    "    return array\n",
    "  else:\n",
    "    # recursive case\n",
    "    pivot = array[0]\n",
    "    # sub-array of all the elements less than the pivot\n",
    "    less = [i for i in array[1:] if i <= pivot]\n",
    "    # sub-array of all the elements greater than the pivot\n",
    "    greater = [i for i in array[1:] if i > pivot]\n",
    "    return quickSort(less) + [pivot] + quickSort(greater)\n",
    "\n"
   ]
  },
  {
   "cell_type": "code",
   "execution_count": 22,
   "metadata": {},
   "outputs": [
    {
     "name": "stdout",
     "output_type": "stream",
     "text": [
      "[6.625652313232421e-05, 0.0003646135330200195, 0.006022310256958008, 0.1421204090118408]\n"
     ]
    }
   ],
   "source": [
    "x = [10, 100, 1000, 10000]\n",
    "\n",
    "print(array_size(quickSort, x))\n"
   ]
  },
  {
   "cell_type": "code",
   "execution_count": null,
   "metadata": {},
   "outputs": [],
   "source": []
  }
 ],
 "metadata": {
  "kernelspec": {
   "display_name": "Python 3",
   "language": "python",
   "name": "python3"
  },
  "language_info": {
   "codemirror_mode": {
    "name": "ipython",
    "version": 3
   },
   "file_extension": ".py",
   "mimetype": "text/x-python",
   "name": "python",
   "nbconvert_exporter": "python",
   "pygments_lexer": "ipython3",
   "version": "3.7.1"
  }
 },
 "nbformat": 4,
 "nbformat_minor": 2
}
