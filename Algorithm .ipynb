{
 "cells": [
  {
   "cell_type": "markdown",
   "metadata": {},
   "source": [
    "# <u>Project: Benchmarking Sorting Algorithms</u>"
   ]
  },
  {
   "cell_type": "markdown",
   "metadata": {},
   "source": [
    "## 1. Introduction\n"
   ]
  },
  {
   "cell_type": "markdown",
   "metadata": {},
   "source": [
    "Sorting algorithms put items in an array into ascending or descending order. Much early research on computing algorithms was focused on sorting. Due to computers' limited ability to store data in memory, algorithms had to be developed to sort through data efficiently (Heineman et al., 2010, P.57). Sorting algorithms are significant for the following key reasons:\n",
    "\n",
    "* Sorting algorithms are important subroutines in many other algorithms. For example, the binary search algorithm (method to search for an item in the array) requires the array to be sorted (Bhargava, A, 2016, P.21). \n",
    "\n",
    "* Sorting is an important function of many real-world applications (Cormen et al., 2009, p. 148). Websites, such as Amazon and Ebay need to be able to sort items by price, time on sale etc. \n",
    "\n",
    "* Finally, sorting has been such a focus of algorithm research that a a huge variety of different algorithmic techniques have been used in their development. They are, therefore, a good introduction to algorithm design (Cormen et al., 2009, p. 148).\n",
    "\n",
    "In this project, i will write an application to benchmark five different sorting algorithms by measuring the average time it takes to sort arrays of different sizes. The algorithms to be benchmarked are below:\n",
    "\n",
    "1. Selection Sort\n",
    "\n",
    "2. Insertion Sort\n",
    "\n",
    "3. Quick Sort\n",
    "\n",
    "4. Pancake Sort\n",
    "\n",
    "5. Bucket Sort.\n",
    "\n",
    "Before, i get to the algorithms, i will first have to introduce **big O notation** as a means to measure time and space **complexity performance** of an algorithm. The difference between **comparison** and **non-comparison** sorting algorithms will be examined. Finally, i will touch on the importance of the **stability** of an algorithm and **in-place** sorting."
   ]
  },
  {
   "cell_type": "markdown",
   "metadata": {},
   "source": [
    "### 1.1 Big O notation and complexity performance"
   ]
  },
  {
   "cell_type": "markdown",
   "metadata": {},
   "source": [
    "Measuring and comparing the time it takes a sorting algorithm to complete its task (as we are doing in this project) is one way to benchmark or compare the efficacy of algorithms. However, measuring the time **performance** is not ideal as it is not **platform independent** (Mannion, P, 2019a). It can be influenced by the following:\n",
    "\n",
    "* The computational power of the specific computer \n",
    "\n",
    "* The language the algorithm is written in (algorithms in a high level language like python would be slower than Java)\n",
    "\n",
    "* The number of other processes in the computer running at the same time as the algorithm. \n",
    "\n",
    "Instead, we compare algorithms using their **time complexity**. We count the number of steps (operations) an algorithm takes to complete a task. Specifically, we observe how quickly the number of operations increases as the input size increases (Mannion, P, 2019a). \n",
    "\n",
    "Algorithmic complexity is measured in a best, average and worst case. The best case is achieved when an algorithm has its optimal input, the average case occurs on random inputs and, finally, the worst case is achieved when an algorithm gets its worst possible input (Mannion, P, 2019a). \n",
    "\n",
    "When comparing algorithms, we use **big O notation** in the form O(). Algorithms are usually compared on their worst case complexity.   \n",
    "\n",
    "\n",
    "The following performance families are typically used to measure algorithms (Bhargava, A, 2016, P.20-33).\n",
    "\n",
    "* **O(1)** *Constant time* The input size size does not affect the running time\n",
    "\n",
    "* **O(log n)** *logarithmic time* The algorithm runs in sub-linear time (eg. a guessing game using <, = and >)\n",
    "\n",
    "* **O(n)** *linear time* An algorithm's growth is directly proportional to the input size. Bucket sort is O(n) in the average case if the input has a uniform distribution (Cormen et al., 2009, p. 200) \n",
    "\n",
    "* **O(n log n)** *worse than linear*. **Comparison based** sorting algorithms do not perform faster than this in the average case (Heineman et al., 2010, P.83).\n",
    "\n",
    "* **O(n2)** *quadratic time* The times increases exponentially - a slow sorting algorithm like **selection sort**.\n",
    "\n"
   ]
  },
  {
   "cell_type": "markdown",
   "metadata": {},
   "source": [
    "While **time complexity** is the most important factor in comparing algorithms, they can also be compared on other attributes (Cormen et al., 2009, p. 23). **Space Complexity** measures the rate of growth in memory usage of an algorithm as the input size increases.\n",
    "\n",
    "Quick sort has an average **time complexity** of O(n log n), substantially better than Insertion Sort's O(n2), but Quick Sort has a worse **space complexity**. Due to its use of recursion, Quick sort uses more memory as more unfinished functions are pushed on the stack.\n",
    "\n",
    "Insertion Sort is an iterative algorithm so its **space complexity** is constant O(1) (bigocheatsheet, n.d).\n",
    "**Space complexity** may be a factor if you are interested in the efficent use of computational power, but i will be focused on **time complexity** in this study. \n",
    "\n"
   ]
  },
  {
   "cell_type": "markdown",
   "metadata": {},
   "source": [
    "### Comparison vs. Non-Comparison Algorithms "
   ]
  },
  {
   "cell_type": "markdown",
   "metadata": {},
   "source": [
    "**Comparison sorts** order the array only by comparing elements in the array to each other. **Selection sort**, **Insertion Sort**, **Pancake sort** and **Quick Sort** are comparison sorts. **Non-comparison sorts** may also use comparison operators, but also use other functions. **Bucket sort** is a non-comparison based algorithm. \n",
    "\n",
    "**Insertion Sort** iterates through the entire array comparing array\\[0\\] to every item in the array. It will then swap the smallest item with array\\[0\\]. The algorithm will then compare array\\[0\\] with all of the array and continue the iterative process. This algorithm compares each item in the array at every step only using comparison operators. \n",
    "\n",
    "**Bucket Sort** on the other hand finds the maximum value in the array and uses this value to create and assign the items to separate lists or buckets. It does not exclusively use comparison operators. \n",
    "\n",
    "No **comparison sort** has a **time complexity** greater than O(n log n) in the best case, **non-comparison sorts** like bucket sort can have a best case of O(n) in the right conditions (Heineman et al., 2010, P.83).\n"
   ]
  },
  {
   "cell_type": "markdown",
   "metadata": {},
   "source": [
    "**Stability** is another factor in algorithmic design. A stable sorting algorithm will ensure that two equal items will maintain their relative position in the sorted array. \n",
    "\n",
    "In other words, items a(i) and a(j) are equal in a list. They should be in the same position a(i) and a(j) in the sorted list (Heineman et al., 2010, P.60).\n",
    "\n",
    "**Quick Sort** and **Selection Sort** are generally unstable, while **Insertion Sort** is stable (algoskills, n.d)."
   ]
  },
  {
   "cell_type": "markdown",
   "metadata": {},
   "source": [
    "Finally, **in place** sorting algorithms transforms the unsorted array into a sorted array in the same memory space. Such algorithms, like **Insertion Sort**, may be more memory-efficient than **Out place** sorting algorithms like merge sort (algoskills, n.d)."
   ]
  },
  {
   "cell_type": "markdown",
   "metadata": {},
   "source": [
    "## 2. Sorting Algorithms  "
   ]
  },
  {
   "cell_type": "markdown",
   "metadata": {},
   "source": [
    "I will now benchmark the 5 sorting algorithms. Firstly i will create and explain the **benchmark function** to do the comparisons.  The algorithms will then be introduced individually and benchmarked. A **Total Comparison** will be done to compare all algorithms together before the **Conclusion** is presented. \n",
    "\n",
    "When using this notebook, it is important to run all of the code cells from top to bottom. If you encounter any errors, go to the top of the page and run the cells in order. "
   ]
  },
  {
   "cell_type": "markdown",
   "metadata": {},
   "source": [
    "### 2.1 Benchmark Function"
   ]
  },
  {
   "cell_type": "markdown",
   "metadata": {},
   "source": [
    "Before creating the benchmark function, i will import libraries and introduce some helper code. \n",
    "\n",
    "The below cell imports the libraries that will be used in the code. This must be ran, before all other code cells. "
   ]
  },
  {
   "cell_type": "code",
   "execution_count": 58,
   "metadata": {},
   "outputs": [],
   "source": [
    "from random import randint\n",
    "import time\n",
    "import pandas as pd\n",
    "import numpy as np\n",
    "import seaborn as sns\n",
    "import matplotlib.pyplot as plt\n",
    "%matplotlib inline"
   ]
  },
  {
   "cell_type": "markdown",
   "metadata": {},
   "source": [
    "The below code generates an array of random numbers and was taken from the project assignment sheet. "
   ]
  },
  {
   "cell_type": "code",
   "execution_count": 59,
   "metadata": {},
   "outputs": [],
   "source": [
    "def random_array(n): # function takes in an integer - this is the size of the array to be generated\n",
    "    array = [] # Empty array to be filled by the below code \n",
    "    for i in range(0,n,1): # loop iterates through an array equal in size to the input \n",
    "        array.append(randint(0,100)) # a random integer between 1 and 100 is appened to the empty array\n",
    "    return array"
   ]
  },
  {
   "cell_type": "markdown",
   "metadata": {},
   "source": [
    "The below is the benchmarking function. It works as follows:\n",
    "\n",
    "1. It takes in a sorting algorithm and an array of input sizes \\(input array\\). \n",
    "2. The outer loop iterates through each item in the input array.\n",
    "3. A random array of integers is generated by the random_array function equal to the input size. \n",
    "4. The sorting function sorts the array and this is timed.\n",
    "5. The time is added to the inres array. The inner loop does this 10 times. \n",
    "6. The average of inres is calculated and added to the outres array.\n",
    "7. The outer loop then moves onto the next input size in the input array.\n",
    "8. When completed, the outres array is returned. It contains the average completion time for each input size. \n",
    "\n"
   ]
  },
  {
   "cell_type": "code",
   "execution_count": 60,
   "metadata": {},
   "outputs": [],
   "source": [
    "def array_size(fnc, array): # function takes two parameters: a sorting function to benchmark and array of input sizes\n",
    "    outres = [] # This is the final array containing the benchmark scores \n",
    "    for i in array: # loop iterates through every item in the array of input sizes, eg. 100, 250, 1000 ... 10,000\n",
    "        num_runs = 10\n",
    "        inres = [] # array containing the 10 benchmark scores for each input size\n",
    "        for r in range(num_runs): # Each benchmark of an input size is completed 10 times\n",
    "            start_time = time.time()\n",
    "    \n",
    "            fnc(random_array(i)) # A random array is generated based on the input sizes. \n",
    "                                 # It is then sorted with the sorting function\n",
    "            end_time = time.time()\n",
    "    \n",
    "            time_elapsed = end_time - start_time # The time the function takes to sort is calculated\n",
    "            \n",
    "            time_elapsed = int(round(time_elapsed * 1000)) # converts to milliseconds - taken from https://stackoverflow.com/questions/5998245/get-current-time-in-milliseconds-in-python\n",
    "    \n",
    "            inres.append(time_elapsed) # The 10 benchmark scores are added to the array inres\n",
    "\n",
    "        average = np.average(inres) # Once the inner loop performing the 10 benchmarks is done, the average is calculated\n",
    "        outres.append(average) # The average for the input size i is added to the final array. \n",
    "    return outres              # The outer loop then moves onto the next input size \n",
    "                               # Once all input sizes are completed, an array containing the average time\n",
    "                               # for each input size is returned\n",
    "\n"
   ]
  },
  {
   "cell_type": "markdown",
   "metadata": {},
   "source": [
    "Now that the benchmark function is created,  i will go through each of the algorithms in order: **Selection Sort**, **Insertion Sort**, **Quick Sort**, **Pancake Sort** and **Bucket Sort**. \n",
    "\n",
    "I will introduce each algorithm and benchmark it using out function. There is a detailed step by step diagram in the same folder as this notebook for each algorithm. The benchmark results are then presented. "
   ]
  },
  {
   "cell_type": "markdown",
   "metadata": {},
   "source": [
    "### *2.2 Selection Sort*"
   ]
  },
  {
   "cell_type": "markdown",
   "metadata": {},
   "source": [
    "Selection sort is a transposition sorting algorithm, like other early sorting algorithms: bubble sort and insertion sort. It finds an out of place element and swaps it with another in the array to put it in place (Heineman et al., 2010, P.61). Selection Sort is the slowest algorithm we will examine in this project and under-performs its relative Insertion Sort which will be looked at next. \n",
    "\n",
    "Selection sort operates in O(n2) in best, average and worst cases (bigocheatsheet, n.d). As one can see in the code below, it uses a nested for loop which results in quadratic time. Like other iterative sorting algorithms, however, its space complexity is constant time O(1).\n",
    "\n",
    "The Algorithm works as follows:\n",
    "\n",
    "1. array\\[0\\] is compared to every other item to its right in the array\n",
    "2. Once the iteration is completed, the smallest item is swapped with array\\[0\\]. This is now sorted. \n",
    "3. array\\[1\\] is now compared with every item to its right and swapped with the smallest \n",
    "4. This continues until the last item in the array is reached. It has nothing to its right. The array is sorted.\n",
    "\n",
    "See the detailed guide Selection Sort in this folder.\n",
    "\n",
    "The Selection Sort function is displayed below.\n"
   ]
  },
  {
   "cell_type": "code",
   "execution_count": 61,
   "metadata": {},
   "outputs": [],
   "source": [
    "def selectionSort(alist): # code taken from https://www.pythoncentral.io/selection-sort-implementation-guide/\n",
    "\n",
    "   for i in range(len(alist)): # outer loop iterates through each item in array\n",
    "       minPosition = i # assumes i is the minimum number\n",
    "       for j in range(i+1, len(alist)): # inner loop iterates through every item to the right of i \n",
    "           if alist[minPosition] > alist[j]:\n",
    "               minPosition = j   # finds the smallest item in the array and updates minposition\n",
    "       temp = alist[i]\n",
    "       alist[i] = alist[minPosition] # swaps i with minposition - the smallest number. \n",
    "       alist[minPosition] = temp\n",
    "   return alist\n"
   ]
  },
  {
   "cell_type": "code",
   "execution_count": 62,
   "metadata": {},
   "outputs": [
    {
     "data": {
      "text/plain": [
       "[1, 2, 3, 3, 7, 9]"
      ]
     },
     "execution_count": 62,
     "metadata": {},
     "output_type": "execute_result"
    }
   ],
   "source": [
    "selectionSort([3,1,7,3,9,2]) # Selection sort sorts the array"
   ]
  },
  {
   "cell_type": "markdown",
   "metadata": {},
   "source": [
    "The below codes calls our benchmark function with the list of input sizes and the selection sort function above. "
   ]
  },
  {
   "cell_type": "code",
   "execution_count": 6,
   "metadata": {
    "scrolled": true
   },
   "outputs": [],
   "source": [
    "ssinput = [100, 250, 500, 750, 1000, 1250, 2500, 3750, 5000, 6250, 7500, 8750, 10000]\n",
    "\n",
    "sstime = array_size(selectionSort, ssinput)\n"
   ]
  },
  {
   "cell_type": "markdown",
   "metadata": {},
   "source": [
    "The benchmark results are converted to a Pandas DataFrame for ease of us. "
   ]
  },
  {
   "cell_type": "code",
   "execution_count": 7,
   "metadata": {},
   "outputs": [],
   "source": [
    "selectionSortDF = pd.DataFrame({\"Input\": ssinput, \"Time\": sstime}) "
   ]
  },
  {
   "cell_type": "markdown",
   "metadata": {},
   "source": [
    "The results are graphed below"
   ]
  },
  {
   "cell_type": "code",
   "execution_count": 8,
   "metadata": {},
   "outputs": [
    {
     "data": {
      "image/png": "[encoded data removed]",
      "text/plain": [
       "<Figure size 432x288 with 1 Axes>"
      ]
     },
     "metadata": {
      "needs_background": "light"
     },
     "output_type": "display_data"
    }
   ],
   "source": [
    "plt.plot('Input', 'Time', data=selectionSortDF)\n",
    "plt.xlabel(\"Input Size\")\n",
    "plt.ylabel(\"Time in Milliseconds\")\n",
    "plt.title(\"Selection Sort Benchmark\")\n",
    "plt.show()"
   ]
  },
  {
   "cell_type": "markdown",
   "metadata": {},
   "source": [
    "One can see above that the results mirror an O(n2) complexity time. The curve is flat at low input sizes, but gets much steeper at higher inputs. \n",
    "\n",
    "Between 0 and 2000 input sizes is very fast, but 10000 takes over 3 seconds. "
   ]
  },
  {
   "cell_type": "markdown",
   "metadata": {},
   "source": [
    "### 2.3 Insertion Sort"
   ]
  },
  {
   "cell_type": "markdown",
   "metadata": {},
   "source": [
    "**Insertion Sort** is a transposition sorting algorithm, but is faster than **Selection Sort** (Heineman et al., 2010, P.61). It is particularly useful for small input sizes, nearly sorted data and for the simplicity of its code. (Heineman et al., 2010, P.61)\n",
    "\n",
    "It also has better **time complexity** than **Selection Sort**. It is O(n2) in worst and average cases, but O(n) in the best case. It also has O(1) **space complexity** (bigocheatsheet, n.d)."
   ]
  },
  {
   "cell_type": "markdown",
   "metadata": {},
   "source": [
    "The algorithm works as follows:\n",
    "\n",
    "1. It iterates from left to right through the array. \n",
    "2. Each item is compared to every item to its left. \n",
    "3. It is swapped with each item to its left until it is in its correct position. \n",
    "4. When the last item in the array has been swapped to its correct position, the array is sorted. \n",
    "\n",
    "See the detailed guide Insertion Sort in this folder.\n",
    "\n",
    "The Insertion Sort function is displayed below.\n"
   ]
  },
  {
   "cell_type": "code",
   "execution_count": 9,
   "metadata": {},
   "outputs": [],
   "source": [
    "def insertionSort(lst): # Taken from https://codereview.stackexchange.com/questions/139056/insertion-sort-in-python\n",
    "    for index in range(1, len(lst)): # iterate through the array\n",
    "\n",
    "        currentvalue = lst[index] \n",
    "        position = index\n",
    "\n",
    "        while position > 0 and lst[position - 1] > currentvalue: # while items to its left are smaller and not first item ... continue\n",
    "            lst[position] = lst[position - 1] # swap item with the item to its left\n",
    "            position = position - 1 # continue comparing item to item to its left\n",
    "\n",
    "        lst[position] = currentvalue\n",
    "    return lst"
   ]
  },
  {
   "cell_type": "code",
   "execution_count": 10,
   "metadata": {},
   "outputs": [
    {
     "data": {
      "text/plain": [
       "[1, 2, 3, 3, 7, 9]"
      ]
     },
     "execution_count": 10,
     "metadata": {},
     "output_type": "execute_result"
    }
   ],
   "source": [
    "insertionSort([3,1,7,3,9,2]) # Insertion sort sorts the array"
   ]
  },
  {
   "cell_type": "markdown",
   "metadata": {},
   "source": [
    "**Insertion Sort** is benchmarked below and the results are converted into a Pandas DataFrame. They are also visualised using matplotlib. "
   ]
  },
  {
   "cell_type": "code",
   "execution_count": 11,
   "metadata": {},
   "outputs": [],
   "source": [
    "isinput = [100, 250, 500, 750, 1000, 1250, 2500, 3750, 5000, 6250, 7500, 8750, 10000]\n",
    "\n",
    "istime = array_size(insertionSort, isinput)"
   ]
  },
  {
   "cell_type": "code",
   "execution_count": 12,
   "metadata": {},
   "outputs": [],
   "source": [
    "insertionSortDF = pd.DataFrame({\"Input\": isinput, \"Time\": istime})"
   ]
  },
  {
   "cell_type": "code",
   "execution_count": 13,
   "metadata": {},
   "outputs": [
    {
     "data": {
      "image/png": "[encoded data removed]",
      "text/plain": [
       "<Figure size 432x288 with 1 Axes>"
      ]
     },
     "metadata": {
      "needs_background": "light"
     },
     "output_type": "display_data"
    }
   ],
   "source": [
    "plt.plot('Input', 'Time', data=insertionSortDF)\n",
    "plt.xlabel(\"Input Size\")\n",
    "plt.ylabel(\"Time in milliseconds\")\n",
    "plt.title(\"Insertion Sort Benchmark\")\n",
    "plt.show()"
   ]
  },
  {
   "cell_type": "markdown",
   "metadata": {},
   "source": [
    "As the arrays are large and randomly generated and, thus, not nearly sorted, **Insertion Sort** is likely to show a similar quadratic curve to **Selection Sort**. It starts off quite flat but its quickly steeper. "
   ]
  },
  {
   "cell_type": "markdown",
   "metadata": {},
   "source": [
    "### *2.4 Quick Sort*"
   ]
  },
  {
   "cell_type": "markdown",
   "metadata": {},
   "source": [
    "**Quick Sort** is a much faster comparison algorithm than **Insertion Sort** or **Selection Sort**. It is commonly used in programming. The C standard library has a function *qsort* which uses this algorithm (Bhargava, A, 2016, P.60).\n",
    "\n",
    "**Quick sort** uses a divide and conquer strategy to improve **time complexity**. Divide and conquer has two steps (Bhargava, A, 2016, P.54). \n",
    "\n",
    "1. Find the simplest case to solve - the base case.  \n",
    "2. Divide your problem until it reaches the base case. \n",
    "\n",
    "For a sorting algorithm, the base case would be an array with 0 or 1 elements. Such an array is already sorted. So a Divide and conquer sorting algorithm recursively divides an array into smaller arrays until the base case is reached.  \n",
    "\n",
    "\n",
    "**Quick sort's** worst case running time is O(n2), however its average and best cases are O(n log n), much better than **Insertion Sort** and **Selection Sort** (Cormen et al., 2009, p. 170). However, due to its use of recursion, its **space complexity** is worse at O(log n) (bigocheatsheet, n.d).\n",
    "\n"
   ]
  },
  {
   "cell_type": "markdown",
   "metadata": {},
   "source": [
    "The algorithm works as follows:\n",
    "\n",
    "1. Pick an item in the array. This is called a pivot. \n",
    "2. Create two sub-arrays. One contains all items greater or equal to pivot. The other contains greater items. \n",
    "4. The pivot is now in its final sorted position. \n",
    "5. The above operations are recursively called on each of the sub-arrays. \n",
    "6. The algorithm stops when the base case is reached: The array contains 0 or 1 elements. \n",
    "\n",
    "See the detailed guide Quick Sort in this folder.\n",
    "\n",
    "The Quick Sort function is displayed below.\n"
   ]
  },
  {
   "cell_type": "code",
   "execution_count": 14,
   "metadata": {},
   "outputs": [],
   "source": [
    "# https://github.com/egonSchiele/grokking_algorithms/blob/master/04_quicksort/python/05_quicksort.py\n",
    "def quickSort(array):\n",
    "  if len(array) < 2:\n",
    "    # base case - stops if arrays are empty or have 1 element. Then they are sorted\n",
    "    return array\n",
    "  else:\n",
    "    # recursive case: This continues until the base case is reached.\n",
    "    pivot = array[0] # The pivot is the first item in the array\n",
    "    less = [i for i in array[1:] if i <= pivot] # iterates through the array from pivot + 1 to the end. \n",
    "                                                # Less is an array of items less or equal to pivot\n",
    "    greater = [i for i in array[1:] if i > pivot] # greater is an array of items greater than pivot\n",
    "    return quickSort(less) + [pivot] + quickSort(greater) # Both the less and greater arrays are recursively called\n",
    "\n"
   ]
  },
  {
   "cell_type": "code",
   "execution_count": 15,
   "metadata": {},
   "outputs": [
    {
     "data": {
      "text/plain": [
       "[1, 2, 3, 3, 7, 9]"
      ]
     },
     "execution_count": 15,
     "metadata": {},
     "output_type": "execute_result"
    }
   ],
   "source": [
    "quickSort([3,1,7,3,9,2]) # Quick sort sorts the array"
   ]
  },
  {
   "cell_type": "markdown",
   "metadata": {},
   "source": [
    "**Quick Sort** is benchmarked below and the results are converted into a Pandas DataFrame. They are also visualised using matplotlib. "
   ]
  },
  {
   "cell_type": "code",
   "execution_count": 16,
   "metadata": {},
   "outputs": [],
   "source": [
    "qsinput = [100, 250, 500, 750, 1000, 1250, 2500, 3750, 5000, 6250, 7500, 8750, 10000]\n",
    "\n",
    "qstime = array_size(quickSort, qsinput)\n"
   ]
  },
  {
   "cell_type": "code",
   "execution_count": 17,
   "metadata": {},
   "outputs": [],
   "source": [
    "quickSortDF = pd.DataFrame({\"Input\": qsinput, \"Time\": qstime})"
   ]
  },
  {
   "cell_type": "code",
   "execution_count": 18,
   "metadata": {},
   "outputs": [
    {
     "data": {
      "image/png": "[encoded data removed]",
      "text/plain": [
       "<Figure size 432x288 with 1 Axes>"
      ]
     },
     "metadata": {
      "needs_background": "light"
     },
     "output_type": "display_data"
    }
   ],
   "source": [
    "plt.plot('Input', 'Time', data=quickSortDF)\n",
    "plt.xlabel(\"Input Size\")\n",
    "plt.ylabel(\"Time in milliseconds\")\n",
    "plt.title(\"Quick Sort Benchmark\")\n",
    "plt.show()"
   ]
  },
  {
   "cell_type": "markdown",
   "metadata": {},
   "source": [
    "Running the above algorithm shows that **Quick Sort** is much faster than **Selection Sort** and **Insertion Sort**. The line is also not as curved as the above algorithms. It is not as steep towards the higher input sizes, showing that the **time complexity** O(n log n) is better. "
   ]
  },
  {
   "cell_type": "markdown",
   "metadata": {},
   "source": [
    "### *2.5 Pancake Sort*"
   ]
  },
  {
   "cell_type": "markdown",
   "metadata": {},
   "source": [
    "Pancake sort is an algorithm that has only two operations:\n",
    "\n",
    "1. Find the maximum in an array\n",
    "2. Flip or reverse all or part of the array. \n",
    "\n",
    "You have a plate of pancakes and a spatula. How do you order the pancakes by size? You cannot easily take an individual pancake from the stack and you cannot insert a pancake into the middle of the stack. \n",
    "\n",
    "One solution is to find the biggest, put the spatula underneath it and flip the pancakes over so the biggest is on top. Then flip the whole stack so the biggest is on the bottom. You then repeat this process with the other pancakes. Eventually, you will be able to sort the pancakes, just by flipping them Walters, A, 2014). \n",
    "\n",
    "Pancake Sort appears to have a worst case **time complexity** of O(n2) and a **space complexity** of O(n) (Walters, A, 2014). \n",
    "\n",
    "It works as follows:\n",
    "\n",
    "1. Iterate from the left to right and find the maximum. \n",
    "2. Reverse the unsorted array from the first position to the maximum so the maximum is in the left most position. \n",
    "3. Reverse the entire array. Now the maximum is on the right most side and is now in sorted position. \n",
    "4. Repeat the above again in the unsorted array.\n",
    "5. The array is sorted when all items are in their sorted position\n",
    "\n",
    "See the detailed guide Pancake Sort in this folder.\n",
    "\n",
    "The Pancake Sort function is displayed below."
   ]
  },
  {
   "cell_type": "code",
   "execution_count": 19,
   "metadata": {},
   "outputs": [],
   "source": [
    "def pancakeSort(nums): # Taken from https://www.w3resource.com/python-exercises/data-structures-and-algorithms/python-search-and-sorting-exercise-18.php\n",
    "    arr_len = len(nums) # calculates the length of the array - This is the starting array length\n",
    "    while arr_len > 1: # will stop when the unsorted array is greater than 1 \n",
    "        mi = nums.index(max(nums[0:arr_len])) # finds the maximum number in the array\n",
    "        nums = nums[mi::-1] + nums[mi+1:len(nums)] # reverses array up to maximum\n",
    "        nums = nums[arr_len-1::-1] + nums[arr_len:len(nums)]\n",
    "        arr_len -= 1\n",
    "    return nums"
   ]
  },
  {
   "cell_type": "code",
   "execution_count": 20,
   "metadata": {},
   "outputs": [
    {
     "data": {
      "text/plain": [
       "[1, 2, 3, 3, 7, 9]"
      ]
     },
     "execution_count": 20,
     "metadata": {},
     "output_type": "execute_result"
    }
   ],
   "source": [
    "pancakeSort([3,1,7,3,9,2]) # Pancake sort sorts the array"
   ]
  },
  {
   "cell_type": "markdown",
   "metadata": {},
   "source": [
    "**Pancake sort** is benchmarked below and the results are converted into a Pandas DataFrame. They are also visualised using matplotlib. "
   ]
  },
  {
   "cell_type": "code",
   "execution_count": 21,
   "metadata": {},
   "outputs": [],
   "source": [
    "psinput = [100, 250, 500, 750, 1000, 1250, 2500, 3750, 5000, 6250, 7500, 8750, 10000]\n",
    "\n",
    "pstime = array_size(pancakeSort, psinput)"
   ]
  },
  {
   "cell_type": "code",
   "execution_count": 22,
   "metadata": {},
   "outputs": [],
   "source": [
    "pancakeSortDF = pd.DataFrame({\"Input\": psinput, \"Time\": pstime})"
   ]
  },
  {
   "cell_type": "code",
   "execution_count": 23,
   "metadata": {},
   "outputs": [
    {
     "data": {
      "image/png": "[encoded data removed]",
      "text/plain": [
       "<Figure size 432x288 with 1 Axes>"
      ]
     },
     "metadata": {
      "needs_background": "light"
     },
     "output_type": "display_data"
    }
   ],
   "source": [
    "plt.plot('Input', 'Time', data=pancakeSortDF)\n",
    "plt.xlabel(\"Input Size\")\n",
    "plt.ylabel(\"Time in milliseconds\")\n",
    "plt.title(\"Pancake Sort Benchmark\")\n",
    "plt.show()"
   ]
  },
  {
   "cell_type": "markdown",
   "metadata": {},
   "source": [
    "The above shows that **bucket sort** runs in O(n2), similar to **Selection Sort** and **Insertion Sort**. However, it is faster than them both. It is still substantially slower than **Quick Sort**. "
   ]
  },
  {
   "cell_type": "markdown",
   "metadata": {},
   "source": [
    "### *2.6 Bucket Sort*"
   ]
  },
  {
   "cell_type": "markdown",
   "metadata": {},
   "source": [
    "**Bucket Sort** is a **non-comparison sort** sorting algorithm. As we have seen, **comparison sort** algorithms can do no better than O(n log n) (Heineman et al., 2010, P.83). Some **Non-comparison sort** algorithms can theoretically do better than this. **Bucket Sort** can have a best and average **time complexity** of O(n) linear time if certain assumptions are made (Cormen et al., 2009, p. 200). It has an O(n2) in the worst case (bigocheatsheet, n.d). **Bucket Sort** should only be used if the array is uniformly distributed. Clustering makes it less affected. (Heineman et al., 2010, P.83). It has a **space complexity** of O(n), which is the worst of all the algorithms in this project (bigocheatsheet, n.d).\n",
    "\n",
    "Bucket sort divides a large array into a number of smaller arrays (buckets). Each smaller array contains similar numbers. Another algorithm suitable to sorting small arrays is then used to sort the buckets. \n",
    "\n",
    "It works as follows:\n",
    "1. A number of empty buckets are created based on the length of the array\n",
    "2. Items in the array are distributed into the bucket based on their closeness to one another.\n",
    "3. Another sorting algorithm, usually **insertion sort** is then used to sort each bucket. \n",
    "4. The buckets are then joined together. \n",
    "\n",
    "    \n",
    "\n",
    "See the detailed guide Bucket Sort in this folder.\n",
    "\n",
    "The Bucket Sort function is displayed below.\n"
   ]
  },
  {
   "cell_type": "code",
   "execution_count": 24,
   "metadata": {},
   "outputs": [],
   "source": [
    "def bucketSort(alist): # Taken from https://www.sanfoundry.com/python-program-implement-bucket-sort/\n",
    "    largest = max(alist)\n",
    "    length = len(alist)\n",
    "    size = largest/length\n",
    " \n",
    "    buckets = [[] for _ in range(length)] # creates empty lists equal to the length of the list\n",
    "    for i in range(length): # iterates through each item in the array\n",
    "        j = int(alist[i]/size)# divides the array item by the size, roounds down to the nearest integer \n",
    "        if j != length:\n",
    "            buckets[j].append(alist[i]) # places the array item into the corresponding bucket (calculated above)\n",
    "        else:\n",
    "            buckets[length - 1].append(alist[i])# This places the max number in the highest array\n",
    " \n",
    "    for i in range(length): # insertion sort is performed on each bucket\n",
    "        insertionSort(buckets[i])\n",
    " \n",
    "    result = []\n",
    "    for i in range(length): # once each bucket is sorted, join them together to created the final unsorted array\n",
    "        result = result + buckets[i]\n",
    " \n",
    "    return result\n",
    "\n",
    "\n",
    " "
   ]
  },
  {
   "cell_type": "code",
   "execution_count": 25,
   "metadata": {},
   "outputs": [
    {
     "data": {
      "text/plain": [
       "[1, 2, 3, 3, 7, 9]"
      ]
     },
     "execution_count": 25,
     "metadata": {},
     "output_type": "execute_result"
    }
   ],
   "source": [
    "bucketSort([3,1,7,3,9,2]) # Bucket sort sorts the array"
   ]
  },
  {
   "cell_type": "markdown",
   "metadata": {},
   "source": [
    "**Bucket sort** is benchmarked below and the results are converted into a Pandas DataFrame. They are also visualised using matplotlib. "
   ]
  },
  {
   "cell_type": "code",
   "execution_count": 26,
   "metadata": {},
   "outputs": [],
   "source": [
    "bsinput = [100, 250, 500, 750, 1000, 1250, 2500, 3750, 5000, 6250, 7500, 8750, 10000]\n",
    "\n",
    "bstime = array_size(bucketSort, bsinput)"
   ]
  },
  {
   "cell_type": "code",
   "execution_count": 27,
   "metadata": {},
   "outputs": [],
   "source": [
    "bucketSortDF = pd.DataFrame({\"Input\": bsinput, \"Time\": bstime})"
   ]
  },
  {
   "cell_type": "code",
   "execution_count": 28,
   "metadata": {},
   "outputs": [
    {
     "data": {
      "image/png": "[encoded data removed]",
      "text/plain": [
       "<Figure size 432x288 with 1 Axes>"
      ]
     },
     "metadata": {
      "needs_background": "light"
     },
     "output_type": "display_data"
    }
   ],
   "source": [
    "plt.plot('Input', 'Time', data=bucketSortDF)\n",
    "plt.xlabel(\"Input Size\")\n",
    "plt.ylabel(\"Time in seconds\")\n",
    "plt.title(\"Bucket Sort Benchmark\")\n",
    "plt.show()"
   ]
  },
  {
   "cell_type": "markdown",
   "metadata": {},
   "source": [
    "**Bucket Sort** does not run in the best case of O(n), but it does have a better **time complexity** than all the other algorithms, except for **Quick Sort**. This suggests that the input data does not match **Bucket Sort's** assumptions of uniformity. \n",
    "\n",
    "**Bucket Sort** is, however, very fast. Only **Quick Sort** has performed better in our benchmarks."
   ]
  },
  {
   "cell_type": "markdown",
   "metadata": {},
   "source": [
    "## 3. Total Comparison"
   ]
  },
  {
   "cell_type": "code",
   "execution_count": 29,
   "metadata": {},
   "outputs": [
    {
     "data": {
      "image/png": "[encoded data removed]",
      "text/plain": [
       "<Figure size 432x288 with 1 Axes>"
      ]
     },
     "metadata": {
      "needs_background": "light"
     },
     "output_type": "display_data"
    }
   ],
   "source": [
    "plt.plot('Input', 'Time', label='Insertion Sort', data=insertionSortDF)\n",
    "plt.plot('Input', 'Time', label='Selection Sort', data=selectionSortDF)\n",
    "plt.plot('Input', 'Time', label='Pancake Sort', data=pancakeSortDF)\n",
    "plt.plot('Input', 'Time', label='Bucket Sort', data=bucketSortDF)\n",
    "plt.plot('Input', 'Time', label='Quick Sort', data=quickSortDF)\n",
    "plt.xlabel(\"Input Size\")\n",
    "plt.ylabel(\"Time in Milliseconds\")\n",
    "plt.title(\"Total Benchmark\")\n",
    "plt.legend()\n",
    "plt.show()"
   ]
  },
  {
   "cell_type": "code",
   "execution_count": 38,
   "metadata": {},
   "outputs": [],
   "source": [
    "def namecol(df,alg): \n",
    "    name = []  \n",
    "    for i in range(13): \n",
    "        name.append(str(alg))\n",
    "    name = pd.DataFrame(name)\n",
    "    name.columns = ['Algorithm']\n",
    "    df2 = name.join(df)\n",
    "    return df2\n"
   ]
  },
  {
   "cell_type": "code",
   "execution_count": 40,
   "metadata": {},
   "outputs": [],
   "source": [
    "insertionSortDF2 = namecol(insertionSortDF,\"Insertion Sort\")\n",
    "selectionSortDF2 = namecol(selectionSortDF,\"Selection Sort\")\n",
    "pancakeSortDF2 = namecol(pancakeSortDF,\"Pancake Sort\")\n",
    "bucketSortDF2 = namecol(bucketSortDF,\"Bucket Sort\")\n",
    "quickSortDF2 = namecol(quickSortDF,\"Quick Sort\")\n",
    "\n",
    "        "
   ]
  },
  {
   "cell_type": "code",
   "execution_count": 51,
   "metadata": {},
   "outputs": [],
   "source": [
    "combinedDF = pd.concat([insertionSortDF2, selectionSortDF2, pancakeSortDF2, bucketSortDF2, quickSortDF2], ignore_index=True)\n",
    "\n",
    "\n"
   ]
  },
  {
   "cell_type": "code",
   "execution_count": 57,
   "metadata": {},
   "outputs": [
    {
     "data": {
      "text/html": [
       "<div>\n",
       "<style scoped>\n",
       "    .dataframe tbody tr th:only-of-type {\n",
       "        vertical-align: middle;\n",
       "    }\n",
       "\n",
       "    .dataframe tbody tr th {\n",
       "        vertical-align: top;\n",
       "    }\n",
       "\n",
       "    .dataframe thead tr th {\n",
       "        text-align: left;\n",
       "    }\n",
       "\n",
       "    .dataframe thead tr:last-of-type th {\n",
       "        text-align: right;\n",
       "    }\n",
       "</style>\n",
       "<table border=\"1\" class=\"dataframe\">\n",
       "  <thead>\n",
       "    <tr>\n",
       "      <th></th>\n",
       "      <th colspan=\"13\" halign=\"left\">Time</th>\n",
       "    </tr>\n",
       "    <tr>\n",
       "      <th>Input</th>\n",
       "      <th>100</th>\n",
       "      <th>250</th>\n",
       "      <th>500</th>\n",
       "      <th>750</th>\n",
       "      <th>1000</th>\n",
       "      <th>1250</th>\n",
       "      <th>2500</th>\n",
       "      <th>3750</th>\n",
       "      <th>5000</th>\n",
       "      <th>6250</th>\n",
       "      <th>7500</th>\n",
       "      <th>8750</th>\n",
       "      <th>10000</th>\n",
       "    </tr>\n",
       "    <tr>\n",
       "      <th>Algorithm</th>\n",
       "      <th></th>\n",
       "      <th></th>\n",
       "      <th></th>\n",
       "      <th></th>\n",
       "      <th></th>\n",
       "      <th></th>\n",
       "      <th></th>\n",
       "      <th></th>\n",
       "      <th></th>\n",
       "      <th></th>\n",
       "      <th></th>\n",
       "      <th></th>\n",
       "      <th></th>\n",
       "    </tr>\n",
       "  </thead>\n",
       "  <tbody>\n",
       "    <tr>\n",
       "      <th>Bucket Sort</th>\n",
       "      <td>0.3</td>\n",
       "      <td>0.7</td>\n",
       "      <td>1.4</td>\n",
       "      <td>2.4</td>\n",
       "      <td>3.2</td>\n",
       "      <td>4.5</td>\n",
       "      <td>12.5</td>\n",
       "      <td>27.4</td>\n",
       "      <td>41.2</td>\n",
       "      <td>65.3</td>\n",
       "      <td>91.2</td>\n",
       "      <td>118.3</td>\n",
       "      <td>158.5</td>\n",
       "    </tr>\n",
       "    <tr>\n",
       "      <th>Insertion Sort</th>\n",
       "      <td>0.6</td>\n",
       "      <td>3.0</td>\n",
       "      <td>11.3</td>\n",
       "      <td>25.9</td>\n",
       "      <td>45.2</td>\n",
       "      <td>70.9</td>\n",
       "      <td>309.5</td>\n",
       "      <td>702.3</td>\n",
       "      <td>1228.6</td>\n",
       "      <td>1824.5</td>\n",
       "      <td>2863.7</td>\n",
       "      <td>4081.4</td>\n",
       "      <td>4983.0</td>\n",
       "    </tr>\n",
       "    <tr>\n",
       "      <th>Pancake Sort</th>\n",
       "      <td>0.5</td>\n",
       "      <td>2.5</td>\n",
       "      <td>7.7</td>\n",
       "      <td>15.7</td>\n",
       "      <td>26.1</td>\n",
       "      <td>40.8</td>\n",
       "      <td>145.6</td>\n",
       "      <td>320.1</td>\n",
       "      <td>587.5</td>\n",
       "      <td>923.9</td>\n",
       "      <td>1260.4</td>\n",
       "      <td>1627.6</td>\n",
       "      <td>2125.0</td>\n",
       "    </tr>\n",
       "    <tr>\n",
       "      <th>Quick Sort</th>\n",
       "      <td>0.2</td>\n",
       "      <td>0.7</td>\n",
       "      <td>1.5</td>\n",
       "      <td>2.4</td>\n",
       "      <td>3.2</td>\n",
       "      <td>4.2</td>\n",
       "      <td>10.0</td>\n",
       "      <td>17.2</td>\n",
       "      <td>25.9</td>\n",
       "      <td>43.3</td>\n",
       "      <td>57.0</td>\n",
       "      <td>63.1</td>\n",
       "      <td>91.3</td>\n",
       "    </tr>\n",
       "    <tr>\n",
       "      <th>Selection Sort</th>\n",
       "      <td>0.4</td>\n",
       "      <td>1.9</td>\n",
       "      <td>8.0</td>\n",
       "      <td>17.5</td>\n",
       "      <td>30.6</td>\n",
       "      <td>47.2</td>\n",
       "      <td>183.2</td>\n",
       "      <td>414.9</td>\n",
       "      <td>728.9</td>\n",
       "      <td>1286.5</td>\n",
       "      <td>1810.9</td>\n",
       "      <td>2443.3</td>\n",
       "      <td>3218.5</td>\n",
       "    </tr>\n",
       "  </tbody>\n",
       "</table>\n",
       "</div>"
      ],
      "text/plain": [
       "                Time                                                      \\\n",
       "Input          100   250   500   750   1000  1250   2500   3750    5000    \n",
       "Algorithm                                                                  \n",
       "Bucket Sort      0.3   0.7   1.4   2.4   3.2   4.5   12.5   27.4    41.2   \n",
       "Insertion Sort   0.6   3.0  11.3  25.9  45.2  70.9  309.5  702.3  1228.6   \n",
       "Pancake Sort     0.5   2.5   7.7  15.7  26.1  40.8  145.6  320.1   587.5   \n",
       "Quick Sort       0.2   0.7   1.5   2.4   3.2   4.2   10.0   17.2    25.9   \n",
       "Selection Sort   0.4   1.9   8.0  17.5  30.6  47.2  183.2  414.9   728.9   \n",
       "\n",
       "                                                \n",
       "Input            6250    7500    8750    10000  \n",
       "Algorithm                                       \n",
       "Bucket Sort       65.3    91.2   118.3   158.5  \n",
       "Insertion Sort  1824.5  2863.7  4081.4  4983.0  \n",
       "Pancake Sort     923.9  1260.4  1627.6  2125.0  \n",
       "Quick Sort        43.3    57.0    63.1    91.3  \n",
       "Selection Sort  1286.5  1810.9  2443.3  3218.5  "
      ]
     },
     "execution_count": 57,
     "metadata": {},
     "output_type": "execute_result"
    }
   ],
   "source": [
    "pd.pivot_table(combinedDF,index=[\"Algorithm\"], columns=[\"Input\"], values=[\"Time\"])"
   ]
  },
  {
   "cell_type": "code",
   "execution_count": null,
   "metadata": {},
   "outputs": [],
   "source": []
  }
 ],
 "metadata": {
  "kernelspec": {
   "display_name": "Python 3",
   "language": "python",
   "name": "python3"
  },
  "language_info": {
   "codemirror_mode": {
    "name": "ipython",
    "version": 3
   },
   "file_extension": ".py",
   "mimetype": "text/x-python",
   "name": "python",
   "nbconvert_exporter": "python",
   "pygments_lexer": "ipython3",
   "version": "3.7.1"
  }
 },
 "nbformat": 4,
 "nbformat_minor": 2
}
