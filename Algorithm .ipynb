{
 "cells": [
  {
   "cell_type": "markdown",
   "metadata": {},
   "source": [
    "# <u>Project: Benchmarking Sorting Algorithms</u>"
   ]
  },
  {
   "cell_type": "markdown",
   "metadata": {},
   "source": [
    "## 1. Introduction\n"
   ]
  },
  {
   "cell_type": "markdown",
   "metadata": {},
   "source": [
    "Sorting algorithms put items in an array into ascending or descending order. Much early research on computing algorithms was focused on sorting. Due to computers' limited ability to store data in memory, algorithms had to be developed to sort through data efficiently (Heineman et al., 2010, P.57). Sorting algorithms are significant for the following key reasons:\n",
    "\n",
    "* Sorting algorithms are important subroutines in many other important algorithms. For example, the binary search algorithm (method to search for an item in the array) requires the array to be sorted (Bhargava, 2016, P.21). \n",
    "\n",
    "* Sorting is an important function of many real-world applications (Cormen et al., 2009, p. 148). Websites, such as Amazon and Ebay need to be able to sort items by price, time on sale etc. \n",
    "\n",
    "* Finally, sorting has been such a focus of algorithm development that a variety of techniques have been used in their development. They are, therefore, a good introduction to algorithm design (Cormen et al., 2009, p. 148).\n",
    "\n",
    "In this project, i will write an application to benchmark five different sorting algorithms:\n",
    "\n",
    "1. Selection Sort\n",
    "\n",
    "2. Quick Sort\n",
    "\n",
    "3. Bucket Sort\n",
    "\n",
    "4. Pancake Sort\n",
    "\n",
    "5. Bogo Sort.\n",
    "\n",
    "Before, i get to the algorithms, i will first have to introduce **big O notation** as a means to measure **complexity performance** of an algorithm. The difference between **comparison** and **non-comparison** sorting algorithms will be examined. Finally, i will touch on the importance of the **stability** of an algorithm and **in-place** sorting."
   ]
  },
  {
   "cell_type": "markdown",
   "metadata": {},
   "source": [
    "### 1.1 Big O notation and complexity performance"
   ]
  },
  {
   "cell_type": "markdown",
   "metadata": {},
   "source": [
    "Measuring and comparing the time it takes a sorting algorithm to complete its task (as we are doing in this project) is one way to perform benchmarking. However, measuring the **performance** is not ideal as it is not **platform independent** (Mannion, P, 2019a). It can be influenced by the following:\n",
    "\n",
    "* The computational power of the computer \n",
    "\n",
    "* The language the algorithm is written in (algorithm in a high level language like python would be slower than Java)\n",
    "\n",
    "* The number of other processes in the computer running at the same as the algorithm. \n",
    "\n",
    "Instead, we compare algorithms using their **complexity**. We count the number of steps (operations) an algorithm takes to complete a task. Specifically, we observe how quickly the number of operations increases as the input size increases (Mannion, P, 2019a). \n",
    "\n",
    "Algorithmic complexity is measured in a best, average and worst case. The best case is achieved when an algorithm has its optimal input, The average case occurs on random inputs and, finally, the worst case is achieved when an algorithm gets its worst possible input (Mannion, P, 2019a). \n",
    "\n",
    "When comparing algorithms, we use **big O notation** in the form O(). Algorithms are usually compared on their worst case complexity.   \n",
    "\n",
    "\n",
    "The following performance families are typically used to measure algorithms (Bhargava, 2016, P.20-33).\n",
    "\n",
    "* **O(1)** *Constant time* The input size size does not affect the running time\n",
    "\n",
    "* **O(log n)** *logarithmic time* The algorithm runs in sub-linear time (eg. a guessing game using <, = and >)\n",
    "\n",
    "* **O(n)** *linear time* An algorithm's growth is directly proportional to the input size. Bucket sort is O(n) in the average case if the input has a uniform distribution (Cormen et al., 2009, p. 200) \n",
    "\n",
    "* **O(n log n)** *worse than linear* No **comparison based** sorting algorithm do not perform faster than this in the average case (Heineman et al., 2010, P.83).\n",
    "\n",
    "* **O(n2)** *quadratic time* The times increases exponentially - a slow sorting algorithm like **selection sort**.\n",
    "\n"
   ]
  },
  {
   "cell_type": "markdown",
   "metadata": {},
   "source": [
    "**Comparison sorts** order the array only by comparing elements in the array to each other. **Selection sort** and **Quick Sort** are comparison sorts. **Non-comparison sorts** can use other functions. We will be looking at **bucket sort**, **pancake sort** and **bogo sort**"
   ]
  },
  {
   "cell_type": "markdown",
   "metadata": {},
   "source": [
    "time complexity \n",
    "\n",
    "inplace sorting \n",
    "\n",
    "stability"
   ]
  },
  {
   "cell_type": "markdown",
   "metadata": {},
   "source": [
    "## 2. Sorting Algorithms  "
   ]
  },
  {
   "cell_type": "code",
   "execution_count": 43,
   "metadata": {},
   "outputs": [],
   "source": [
    "from random import randint\n",
    "import time\n",
    "import pandas as pd\n",
    "import numpy as np\n",
    "import seaborn as sns\n",
    "import matplotlib.pyplot as plt\n",
    "%matplotlib inline"
   ]
  },
  {
   "cell_type": "code",
   "execution_count": 49,
   "metadata": {},
   "outputs": [],
   "source": [
    "def random_array(n):\n",
    "    array = []\n",
    "    for i in range(0,n,1):\n",
    "        array.append(randint(0,100))\n",
    "    return array"
   ]
  },
  {
   "cell_type": "markdown",
   "metadata": {},
   "source": [
    "### *2.1 Selection Sort*"
   ]
  },
  {
   "cell_type": "markdown",
   "metadata": {},
   "source": [
    "Selection sort is a naive comparison sorting algorithm, like bubble sort and selection sort. It is simpler and slower than more efficient comparison sort algorithms, such as Quick sort which we will examine later. \n",
    "\n",
    "Selection sort operates in O(n2)in best, average and worst cases. As one can see in the code below, it uses a nested for loop which results in quadratic time. "
   ]
  },
  {
   "cell_type": "code",
   "execution_count": 50,
   "metadata": {},
   "outputs": [
    {
     "name": "stdout",
     "output_type": "stream",
     "text": [
      "[1, 2, 3, 5, 8]\n"
     ]
    }
   ],
   "source": [
    "lst = [2, 8, 3, 1, 5]\n",
    "\n",
    "for i in range(len(lst)):\n",
    "       minPosition = i\n",
    "       for j in range(i+1, len(lst)):\n",
    "           if lst[minPosition] > lst[j]:\n",
    "               minPosition = j  \n",
    "       temp = lst[i]\n",
    "       lst[i] = lst[minPosition]\n",
    "       lst[minPosition] = temp\n",
    "print (lst)"
   ]
  },
  {
   "cell_type": "code",
   "execution_count": 51,
   "metadata": {},
   "outputs": [],
   "source": [
    "def selectionSort(alist):\n",
    "\n",
    "   for i in range(len(alist)):\n",
    "       minPosition = i\n",
    "       for j in range(i+1, len(alist)):\n",
    "           if alist[minPosition] > alist[j]:\n",
    "               minPosition = j  \n",
    "       temp = alist[i]\n",
    "       alist[i] = alist[minPosition]\n",
    "       alist[minPosition] = temp\n",
    "   return alist\n"
   ]
  },
  {
   "cell_type": "code",
   "execution_count": 52,
   "metadata": {},
   "outputs": [],
   "source": [
    "def array_size(fnc, array):\n",
    "    outres = []\n",
    "    for i in array:\n",
    "        num_runs = 10\n",
    "        inres = []\n",
    "        for r in range(num_runs):\n",
    "            start_time = time.time()\n",
    "    \n",
    "            fnc(random_array(i))\n",
    "    \n",
    "            end_time = time.time()\n",
    "    \n",
    "            time_elapsed = end_time - start_time\n",
    "            \n",
    "            #time_elapsed = int(round(time_elapsed * 1000)) https://stackoverflow.com/questions/5998245/get-current-time-in-milliseconds-in-python\n",
    "    \n",
    "            inres.append(time_elapsed)\n",
    "\n",
    "        average = np.average(inres)\n",
    "        outres.append(average)\n",
    "    return outres\n",
    "\n"
   ]
  },
  {
   "cell_type": "code",
   "execution_count": 53,
   "metadata": {
    "scrolled": true
   },
   "outputs": [],
   "source": [
    "ssinput = [100, 250, 500, 750, 1000, 1250, 2500, 3750, 5000, 6250, 7500, 8750, 10000]\n",
    "\n",
    "sstime = array_size(selectionSort, ssinput)\n"
   ]
  },
  {
   "cell_type": "code",
   "execution_count": 54,
   "metadata": {},
   "outputs": [],
   "source": [
    "selectionSortDF = pd.DataFrame({\"Input\": ssinput, \"Time\": sstime})"
   ]
  },
  {
   "cell_type": "code",
   "execution_count": 55,
   "metadata": {},
   "outputs": [
    {
     "data": {
      "image/png": "[encoded data removed]",
      "text/plain": [
       "<Figure size 432x288 with 1 Axes>"
      ]
     },
     "metadata": {
      "needs_background": "light"
     },
     "output_type": "display_data"
    }
   ],
   "source": [
    "plt.plot('Input', 'Time', data=selectionSortDF)\n",
    "plt.xlabel(\"Input Size\")\n",
    "plt.ylabel(\"Time in seconds\")\n",
    "plt.title(\"Selection Sort Benchmark\")\n",
    "plt.show()"
   ]
  },
  {
   "cell_type": "markdown",
   "metadata": {},
   "source": [
    "### 2.2 Insertion Sort"
   ]
  },
  {
   "cell_type": "code",
   "execution_count": 68,
   "metadata": {},
   "outputs": [],
   "source": [
    "def insertionSort(lst): #https://codereview.stackexchange.com/questions/139056/insertion-sort-in-python\n",
    "    for index in range(1, len(lst)):\n",
    "\n",
    "        currentvalue = lst[index]\n",
    "        position = index\n",
    "\n",
    "        while position > 0 and lst[position - 1] > currentvalue:\n",
    "            lst[position] = lst[position - 1]\n",
    "            position = position - 1\n",
    "\n",
    "        lst[position] = currentvalue\n",
    "    return lst"
   ]
  },
  {
   "cell_type": "code",
   "execution_count": 57,
   "metadata": {},
   "outputs": [],
   "source": [
    "isinput = [100, 250, 500, 750, 1000, 1250, 2500, 3750, 5000, 6250, 7500, 8750, 10000]\n",
    "\n",
    "istime = array_size(insertionSort, isinput)"
   ]
  },
  {
   "cell_type": "code",
   "execution_count": 58,
   "metadata": {},
   "outputs": [],
   "source": [
    "insertionSortDF = pd.DataFrame({\"Input\": isinput, \"Time\": istime})"
   ]
  },
  {
   "cell_type": "code",
   "execution_count": 59,
   "metadata": {},
   "outputs": [
    {
     "data": {
      "image/png": "[encoded data removed]",
      "text/plain": [
       "<Figure size 432x288 with 1 Axes>"
      ]
     },
     "metadata": {
      "needs_background": "light"
     },
     "output_type": "display_data"
    }
   ],
   "source": [
    "plt.plot('Input', 'Time', data=insertionSortDF)\n",
    "plt.xlabel(\"Input Size\")\n",
    "plt.ylabel(\"Time in seconds\")\n",
    "plt.title(\"Insertion Sort Benchmark\")\n",
    "plt.show()"
   ]
  },
  {
   "cell_type": "markdown",
   "metadata": {},
   "source": [
    "### *2.2 Quick Sort*"
   ]
  },
  {
   "cell_type": "code",
   "execution_count": 60,
   "metadata": {},
   "outputs": [],
   "source": [
    "# https://github.com/egonSchiele/grokking_algorithms/blob/master/04_quicksort/python/05_quicksort.py\n",
    "def quickSort(array):\n",
    "  if len(array) < 2:\n",
    "    # base case, arrays with 0 or 1 element are already \"sorted\"\n",
    "    return array\n",
    "  else:\n",
    "    # recursive case\n",
    "    pivot = array[0]\n",
    "    # sub-array of all the elements less than the pivot\n",
    "    less = [i for i in array[1:] if i <= pivot]\n",
    "    # sub-array of all the elements greater than the pivot\n",
    "    greater = [i for i in array[1:] if i > pivot]\n",
    "    return quickSort(less) + [pivot] + quickSort(greater)\n",
    "\n"
   ]
  },
  {
   "cell_type": "code",
   "execution_count": 61,
   "metadata": {},
   "outputs": [],
   "source": [
    "qsinput = [100, 250, 500, 750, 1000, 1250, 2500, 3750, 5000, 6250, 7500, 8750, 10000]\n",
    "\n",
    "qstime = array_size(quickSort, qsinput)\n"
   ]
  },
  {
   "cell_type": "code",
   "execution_count": 62,
   "metadata": {},
   "outputs": [],
   "source": [
    "quickSortDF = pd.DataFrame({\"Input\": qsinput, \"Time\": qstime})"
   ]
  },
  {
   "cell_type": "code",
   "execution_count": null,
   "metadata": {},
   "outputs": [],
   "source": []
  },
  {
   "cell_type": "code",
   "execution_count": 63,
   "metadata": {},
   "outputs": [
    {
     "data": {
      "image/png": "[encoded data removed]",
      "text/plain": [
       "<Figure size 432x288 with 1 Axes>"
      ]
     },
     "metadata": {
      "needs_background": "light"
     },
     "output_type": "display_data"
    }
   ],
   "source": [
    "plt.plot('Input', 'Time', data=quickSortDF)\n",
    "plt.xlabel(\"Input Size\")\n",
    "plt.ylabel(\"Time in seconds\")\n",
    "plt.title(\"quick Sort Benchmark\")\n",
    "plt.show()"
   ]
  },
  {
   "cell_type": "markdown",
   "metadata": {},
   "source": [
    "### *2.3 Pancake Sort*"
   ]
  },
  {
   "cell_type": "code",
   "execution_count": 64,
   "metadata": {},
   "outputs": [],
   "source": [
    "def pancakeSort(nums):\n",
    "    arr_len = len(nums)\n",
    "    while arr_len > 1:\n",
    "        mi = nums.index(max(nums[0:arr_len]))\n",
    "        nums = nums[mi::-1] + nums[mi+1:len(nums)]\n",
    "        nums = nums[arr_len-1::-1] + nums[arr_len:len(nums)]\n",
    "        arr_len -= 1\n",
    "    return nums"
   ]
  },
  {
   "cell_type": "code",
   "execution_count": 66,
   "metadata": {},
   "outputs": [],
   "source": [
    "psinput = [100, 250, 500, 750, 1000, 1250, 2500, 3750, 5000, 6250, 7500, 8750, 10000]\n",
    "\n",
    "pstime = array_size(pancakeSort, psinput)"
   ]
  },
  {
   "cell_type": "code",
   "execution_count": 67,
   "metadata": {},
   "outputs": [],
   "source": [
    "pancakeSortDF = pd.DataFrame({\"Input\": psinput, \"Time\": pstime})"
   ]
  },
  {
   "cell_type": "code",
   "execution_count": 42,
   "metadata": {},
   "outputs": [
    {
     "data": {
      "image/png": "[encoded data removed]",
      "text/plain": [
       "<Figure size 432x288 with 1 Axes>"
      ]
     },
     "metadata": {
      "needs_background": "light"
     },
     "output_type": "display_data"
    }
   ],
   "source": [
    "plt.plot('Input', 'Time', data=pancakeSortDF)\n",
    "plt.xlabel(\"Input Size\")\n",
    "plt.ylabel(\"Time in seconds\")\n",
    "plt.title(\"Pancake Sort Benchmark\")\n",
    "plt.show()"
   ]
  },
  {
   "cell_type": "markdown",
   "metadata": {},
   "source": [
    "### 2.5 Bucket Sort\n"
   ]
  },
  {
   "cell_type": "code",
   "execution_count": 86,
   "metadata": {},
   "outputs": [],
   "source": [
    "def bucketSort(alist): # https://www.sanfoundry.com/python-program-implement-bucket-sort/\n",
    "    largest = max(alist)\n",
    "    length = len(alist)\n",
    "    size = largest/length\n",
    " \n",
    "    buckets = [[] for _ in range(length)]\n",
    "    for i in range(length):\n",
    "        j = int(alist[i]/size)\n",
    "        if j != length:\n",
    "            buckets[j].append(alist[i])\n",
    "        else:\n",
    "            buckets[length - 1].append(alist[i])\n",
    " \n",
    "    for i in range(length):\n",
    "        insertion_sort(buckets[i])\n",
    " \n",
    "    result = []\n",
    "    for i in range(length):\n",
    "        result = result + buckets[i]\n",
    " \n",
    "    return result\n",
    " \n",
    "def insertion_sort(alist):\n",
    "    for i in range(1, len(alist)):\n",
    "        temp = alist[i]\n",
    "        j = i - 1\n",
    "        while (j >= 0 and temp < alist[j]):\n",
    "            alist[j + 1] = alist[j]\n",
    "            j = j - 1\n",
    "        alist[j + 1] = temp"
   ]
  },
  {
   "cell_type": "code",
   "execution_count": 83,
   "metadata": {},
   "outputs": [],
   "source": [
    "bsinput = [100, 250, 500, 750, 1000, 1250, 2500, 3750, 5000, 6250, 7500, 8750, 10000]\n",
    "\n",
    "bstime = array_size(bucketSort, bsinput)"
   ]
  },
  {
   "cell_type": "code",
   "execution_count": 84,
   "metadata": {},
   "outputs": [],
   "source": [
    "bucketSortDF = pd.DataFrame({\"Input\": bsinput, \"Time\": bstime})"
   ]
  },
  {
   "cell_type": "code",
   "execution_count": 85,
   "metadata": {},
   "outputs": [
    {
     "data": {
      "image/png": "[encoded data removed]",
      "text/plain": [
       "<Figure size 432x288 with 1 Axes>"
      ]
     },
     "metadata": {
      "needs_background": "light"
     },
     "output_type": "display_data"
    }
   ],
   "source": [
    "plt.plot('Input', 'Time', data=bucketSortDF)\n",
    "plt.xlabel(\"Input Size\")\n",
    "plt.ylabel(\"Time in seconds\")\n",
    "plt.title(\"Bucket Sort Benchmark\")\n",
    "plt.show()"
   ]
  },
  {
   "cell_type": "markdown",
   "metadata": {},
   "source": [
    "### *2.4 Bogo Sort*"
   ]
  },
  {
   "cell_type": "code",
   "execution_count": 28,
   "metadata": {},
   "outputs": [],
   "source": [
    "def bogoSort(lst):\n",
    "    np.random.shuffle(lst)  # must shuffle it first or it's a bug if lst was pre-sorted! :)\n",
    "    while lst != sorted(lst):\n",
    "        np.random.shuffle(lst)\n",
    "    return lst"
   ]
  },
  {
   "cell_type": "code",
   "execution_count": 30,
   "metadata": {},
   "outputs": [
    {
     "ename": "KeyboardInterrupt",
     "evalue": "",
     "output_type": "error",
     "traceback": [
      "\u001b[1;31m---------------------------------------------------------------------------\u001b[0m",
      "\u001b[1;31mKeyboardInterrupt\u001b[0m                         Traceback (most recent call last)",
      "\u001b[1;32m<ipython-input-30-a2dffc4e14ca>\u001b[0m in \u001b[0;36m<module>\u001b[1;34m\u001b[0m\n\u001b[0;32m      1\u001b[0m \u001b[0mbsinput\u001b[0m \u001b[1;33m=\u001b[0m \u001b[1;33m[\u001b[0m\u001b[1;36m100\u001b[0m\u001b[1;33m,\u001b[0m \u001b[1;36m250\u001b[0m\u001b[1;33m,\u001b[0m \u001b[1;36m500\u001b[0m\u001b[1;33m,\u001b[0m \u001b[1;36m750\u001b[0m\u001b[1;33m]\u001b[0m\u001b[1;33m\u001b[0m\u001b[1;33m\u001b[0m\u001b[0m\n\u001b[0;32m      2\u001b[0m \u001b[1;33m\u001b[0m\u001b[0m\n\u001b[1;32m----> 3\u001b[1;33m \u001b[0mbstime\u001b[0m \u001b[1;33m=\u001b[0m \u001b[0marray_size\u001b[0m\u001b[1;33m(\u001b[0m\u001b[0mbogoSort\u001b[0m\u001b[1;33m,\u001b[0m \u001b[0mbsinput\u001b[0m\u001b[1;33m)\u001b[0m\u001b[1;33m\u001b[0m\u001b[1;33m\u001b[0m\u001b[0m\n\u001b[0m",
      "\u001b[1;32m<ipython-input-5-22edf9ae0d87>\u001b[0m in \u001b[0;36marray_size\u001b[1;34m(fnc, array)\u001b[0m\n\u001b[0;32m      7\u001b[0m             \u001b[0mstart_time\u001b[0m \u001b[1;33m=\u001b[0m \u001b[0mtime\u001b[0m\u001b[1;33m.\u001b[0m\u001b[0mtime\u001b[0m\u001b[1;33m(\u001b[0m\u001b[1;33m)\u001b[0m\u001b[1;33m\u001b[0m\u001b[1;33m\u001b[0m\u001b[0m\n\u001b[0;32m      8\u001b[0m \u001b[1;33m\u001b[0m\u001b[0m\n\u001b[1;32m----> 9\u001b[1;33m             \u001b[0mfnc\u001b[0m\u001b[1;33m(\u001b[0m\u001b[0mrandom_array\u001b[0m\u001b[1;33m(\u001b[0m\u001b[0mi\u001b[0m\u001b[1;33m)\u001b[0m\u001b[1;33m)\u001b[0m\u001b[1;33m\u001b[0m\u001b[1;33m\u001b[0m\u001b[0m\n\u001b[0m\u001b[0;32m     10\u001b[0m \u001b[1;33m\u001b[0m\u001b[0m\n\u001b[0;32m     11\u001b[0m             \u001b[0mend_time\u001b[0m \u001b[1;33m=\u001b[0m \u001b[0mtime\u001b[0m\u001b[1;33m.\u001b[0m\u001b[0mtime\u001b[0m\u001b[1;33m(\u001b[0m\u001b[1;33m)\u001b[0m\u001b[1;33m\u001b[0m\u001b[1;33m\u001b[0m\u001b[0m\n",
      "\u001b[1;32m<ipython-input-28-e3f42c8495d6>\u001b[0m in \u001b[0;36mbogoSort\u001b[1;34m(lst)\u001b[0m\n\u001b[0;32m      2\u001b[0m     \u001b[0mnp\u001b[0m\u001b[1;33m.\u001b[0m\u001b[0mrandom\u001b[0m\u001b[1;33m.\u001b[0m\u001b[0mshuffle\u001b[0m\u001b[1;33m(\u001b[0m\u001b[0mlst\u001b[0m\u001b[1;33m)\u001b[0m  \u001b[1;31m# must shuffle it first or it's a bug if lst was pre-sorted! :)\u001b[0m\u001b[1;33m\u001b[0m\u001b[1;33m\u001b[0m\u001b[0m\n\u001b[0;32m      3\u001b[0m     \u001b[1;32mwhile\u001b[0m \u001b[0mlst\u001b[0m \u001b[1;33m!=\u001b[0m \u001b[0msorted\u001b[0m\u001b[1;33m(\u001b[0m\u001b[0mlst\u001b[0m\u001b[1;33m)\u001b[0m\u001b[1;33m:\u001b[0m\u001b[1;33m\u001b[0m\u001b[1;33m\u001b[0m\u001b[0m\n\u001b[1;32m----> 4\u001b[1;33m         \u001b[0mnp\u001b[0m\u001b[1;33m.\u001b[0m\u001b[0mrandom\u001b[0m\u001b[1;33m.\u001b[0m\u001b[0mshuffle\u001b[0m\u001b[1;33m(\u001b[0m\u001b[0mlst\u001b[0m\u001b[1;33m)\u001b[0m\u001b[1;33m\u001b[0m\u001b[1;33m\u001b[0m\u001b[0m\n\u001b[0m\u001b[0;32m      5\u001b[0m     \u001b[1;32mreturn\u001b[0m \u001b[0mlst\u001b[0m\u001b[1;33m\u001b[0m\u001b[1;33m\u001b[0m\u001b[0m\n",
      "\u001b[1;31mKeyboardInterrupt\u001b[0m: "
     ]
    }
   ],
   "source": [
    "bsinput = [100, 250, 500, 750]\n",
    "\n",
    "bstime = array_size(bogoSort, bsinput)"
   ]
  },
  {
   "cell_type": "code",
   "execution_count": null,
   "metadata": {},
   "outputs": [],
   "source": [
    "bogoSortDF = pd.DataFrame({\"Input\": bsinput, \"Time\": bstime})"
   ]
  },
  {
   "cell_type": "code",
   "execution_count": null,
   "metadata": {},
   "outputs": [],
   "source": []
  }
 ],
 "metadata": {
  "kernelspec": {
   "display_name": "Python 3",
   "language": "python",
   "name": "python3"
  },
  "language_info": {
   "codemirror_mode": {
    "name": "ipython",
    "version": 3
   },
   "file_extension": ".py",
   "mimetype": "text/x-python",
   "name": "python",
   "nbconvert_exporter": "python",
   "pygments_lexer": "ipython3",
   "version": "3.7.1"
  }
 },
 "nbformat": 4,
 "nbformat_minor": 2
}
