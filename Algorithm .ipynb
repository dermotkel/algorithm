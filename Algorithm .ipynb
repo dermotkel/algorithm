{
 "cells": [
  {
   "cell_type": "markdown",
   "metadata": {},
   "source": [
    "# <u>Project: Benchmarking Sorting Algorithms</u>"
   ]
  },
  {
   "cell_type": "markdown",
   "metadata": {},
   "source": [
    "## 1. Introduction\n"
   ]
  },
  {
   "cell_type": "code",
   "execution_count": null,
   "metadata": {},
   "outputs": [],
   "source": []
  },
  {
   "cell_type": "markdown",
   "metadata": {},
   "source": [
    "## 2. Sorting Algorithms  "
   ]
  },
  {
   "cell_type": "code",
   "execution_count": null,
   "metadata": {},
   "outputs": [],
   "source": []
  },
  {
   "cell_type": "markdown",
   "metadata": {},
   "source": [
    "### *2.1 Selection Sort*"
   ]
  },
  {
   "cell_type": "code",
   "execution_count": 11,
   "metadata": {},
   "outputs": [],
   "source": [
    "from random import randint\n",
    "import time\n",
    "import numpy as np"
   ]
  },
  {
   "cell_type": "code",
   "execution_count": 12,
   "metadata": {},
   "outputs": [],
   "source": [
    "def selectionSort(alist):\n",
    "\n",
    "   for i in range(len(alist)):\n",
    "       minPosition = i\n",
    "       for j in range(i+1, len(alist)):\n",
    "           if alist[minPosition] > alist[j]:\n",
    "               minPosition = j  \n",
    "       temp = alist[i]\n",
    "       alist[i] = alist[minPosition]\n",
    "       alist[minPosition] = temp\n",
    "   return alist\n"
   ]
  },
  {
   "cell_type": "code",
   "execution_count": 13,
   "metadata": {},
   "outputs": [],
   "source": [
    "def random_array(n):\n",
    "    array = []\n",
    "    for i in range(0,n,1):\n",
    "        array.append(randint(0,100))\n",
    "    return array"
   ]
  },
  {
   "cell_type": "code",
   "execution_count": 14,
   "metadata": {},
   "outputs": [],
   "source": [
    "def array_size(fnc, array):\n",
    "    outres = []\n",
    "    for i in array:\n",
    "        num_runs = 10\n",
    "        inres = []\n",
    "        for r in range(num_runs):\n",
    "            start_time = time.time()\n",
    "    \n",
    "            fnc(random_array(i))\n",
    "    \n",
    "            end_time = time.time()\n",
    "    \n",
    "            time_elapsed = end_time - start_time\n",
    "    \n",
    "            inres.append(time_elapsed)\n",
    "\n",
    "        average = np.average(inres)\n",
    "        outres.append(average)\n",
    "    return outres\n",
    "\n"
   ]
  },
  {
   "cell_type": "code",
   "execution_count": 21,
   "metadata": {
    "scrolled": true
   },
   "outputs": [
    {
     "name": "stdout",
     "output_type": "stream",
     "text": [
      "[0.0002111196517944336, 0.00138399600982666, 0.07314462661743164, 7.100179696083069]\n"
     ]
    }
   ],
   "source": [
    "x = [10, 100, 1000, 10000]\n",
    "\n",
    "print(array_size(selectionSort, x))"
   ]
  },
  {
   "cell_type": "markdown",
   "metadata": {},
   "source": [
    "### *2.2 Quick Sort*"
   ]
  },
  {
   "cell_type": "code",
   "execution_count": 16,
   "metadata": {},
   "outputs": [],
   "source": [
    "# https://github.com/egonSchiele/grokking_algorithms/blob/master/04_quicksort/python/05_quicksort.py\n",
    "def quickSort(array):\n",
    "  if len(array) < 2:\n",
    "    # base case, arrays with 0 or 1 element are already \"sorted\"\n",
    "    return array\n",
    "  else:\n",
    "    # recursive case\n",
    "    pivot = array[0]\n",
    "    # sub-array of all the elements less than the pivot\n",
    "    less = [i for i in array[1:] if i <= pivot]\n",
    "    # sub-array of all the elements greater than the pivot\n",
    "    greater = [i for i in array[1:] if i > pivot]\n",
    "    return quickSort(less) + [pivot] + quickSort(greater)\n",
    "\n"
   ]
  },
  {
   "cell_type": "code",
   "execution_count": 17,
   "metadata": {},
   "outputs": [
    {
     "name": "stdout",
     "output_type": "stream",
     "text": [
      "[0.0, 0.00039904117584228517, 0.006188488006591797, 0.15239925384521485]\n"
     ]
    }
   ],
   "source": [
    "x = [10, 100, 1000, 10000]\n",
    "\n",
    "print(array_size(quickSort, x))\n"
   ]
  },
  {
   "cell_type": "code",
   "execution_count": null,
   "metadata": {},
   "outputs": [],
   "source": []
  },
  {
   "cell_type": "markdown",
   "metadata": {},
   "source": [
    "### *2.3 Pancake Sort*"
   ]
  },
  {
   "cell_type": "code",
   "execution_count": 19,
   "metadata": {},
   "outputs": [],
   "source": [
    "def pancakeSort(nums):\n",
    "    arr_len = len(nums)\n",
    "    while arr_len > 1:\n",
    "        mi = nums.index(max(nums[0:arr_len]))\n",
    "        nums = nums[mi::-1] + nums[mi+1:len(nums)]\n",
    "        nums = nums[arr_len-1::-1] + nums[arr_len:len(nums)]\n",
    "        arr_len -= 1\n",
    "    return nums"
   ]
  },
  {
   "cell_type": "code",
   "execution_count": 20,
   "metadata": {},
   "outputs": [
    {
     "name": "stdout",
     "output_type": "stream",
     "text": [
      "[9.965896606445312e-05, 0.0007980823516845703, 0.04595935344696045, 4.53989565372467]\n"
     ]
    }
   ],
   "source": [
    "x = [10, 100, 1000, 10000]\n",
    "\n",
    "print(array_size(pancakeSort, x))"
   ]
  },
  {
   "cell_type": "code",
   "execution_count": null,
   "metadata": {},
   "outputs": [],
   "source": []
  }
 ],
 "metadata": {
  "kernelspec": {
   "display_name": "Python 3",
   "language": "python",
   "name": "python3"
  },
  "language_info": {
   "codemirror_mode": {
    "name": "ipython",
    "version": 3
   },
   "file_extension": ".py",
   "mimetype": "text/x-python",
   "name": "python",
   "nbconvert_exporter": "python",
   "pygments_lexer": "ipython3",
   "version": "3.7.1"
  }
 },
 "nbformat": 4,
 "nbformat_minor": 2
}
